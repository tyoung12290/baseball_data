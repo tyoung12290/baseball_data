{
 "cells": [
  {
   "cell_type": "markdown",
   "metadata": {},
   "source": [
    "            \n",
    "| Stat | Score |\n",
    "| ---  | ---   |\n",
    "| Win  | 6     |\n",
    "| QS  |  4     |\n",
    "| ER  | -3     |\n",
    "| SO  | 3     |\n",
    "| Out  | 1     |\n",
    "| 1B  | 3     |\n",
    "| 2B  | 6     |\n",
    "| 3B  | 9     |\n",
    "| HR  | 12     |\n",
    "| RBI  | 3.5     |\n",
    "| R  | 3.2     |\n",
    "| BB  | 3     |\n",
    "| SB  | 6     |\n",
    "| HBP  | 3     |\n"
   ]
  },
  {
   "cell_type": "markdown",
   "metadata": {},
   "source": [
    "# Positions\n",
    "P - 1 <br>\n",
    "C/1B - 1 <br>\n",
    "2B - 1 <br>\n",
    "3B - 1 <br>\n",
    "SS - 1 <br>\n",
    "OF - 3 <br>\n",
    "UTIL - 1 <br>"
   ]
  },
  {
   "cell_type": "code",
   "execution_count": 8,
   "metadata": {},
   "outputs": [],
   "source": [
    "import pandas as pd\n",
    "from bs4 import BeautifulSoup\n",
    "import requests\n",
    "import io"
   ]
  },
  {
   "cell_type": "code",
   "execution_count": 9,
   "metadata": {},
   "outputs": [],
   "source": [
    "BASE_URL=\"http://rotoguru1.com/cgi-bin/hyday.pl?game=fd&scsv=1\"\n",
    "page = requests.get(BASE_URL)"
   ]
  },
  {
   "cell_type": "code",
   "execution_count": 10,
   "metadata": {},
   "outputs": [],
   "source": [
    "soup=BeautifulSoup(page.content, 'html.parser')\n",
    "#headers = [\"Date\",\"GID\",\"MLB_ID\",\"Name\",\"Starter\",\"Bat order\",\"FD posn\",\"FD pts\",\"FD sal\",\"Team\",\"Oppt\",\"dblhdr\",\"Tm Runs\",\"Opp Runs\"]\n",
    "all_games=pd.read_csv(io.StringIO(soup.find(\"pre\").text),sep=\";\")"
   ]
  },
  {
   "cell_type": "code",
   "execution_count": 11,
   "metadata": {},
   "outputs": [
    {
     "data": {
      "text/plain": [
       "SG    62\n",
       "PF    42\n",
       "PG    35\n",
       "SF    31\n",
       "C     29\n",
       "Name: Pos, dtype: int64"
      ]
     },
     "execution_count": 11,
     "metadata": {},
     "output_type": "execute_result"
    }
   ],
   "source": [
    "pd.value_counts(all_games['Pos'])"
   ]
  },
  {
   "cell_type": "code",
   "execution_count": null,
   "metadata": {},
   "outputs": [],
   "source": []
  },
  {
   "cell_type": "markdown",
   "metadata": {},
   "source": [
    "# Combination calculation\n",
    "[example baseball lineup calc](\"https://math.stackexchange.com/questions/1262243/baseball-combinations-problem\")\n",
    "\n"
   ]
  },
  {
   "cell_type": "code",
   "execution_count": 94,
   "metadata": {},
   "outputs": [],
   "source": [
    "#all_games.sort_values(by=\"FD pts\", ascending=False)\n",
    "all_games=all_games[all_games['FD Pts'] >=10]\n",
    "pgs=all_games[all_games['Pos'] == 'PG']\n",
    "sgs=all_games[all_games['Pos'] == 'SG']\n",
    "sfs=all_games[all_games['Pos'] == 'SF']\n",
    "pfs=all_games[all_games['Pos'] == 'PF']\n",
    "cs=all_games[all_games['Pos'] == 'C']\n",
    "\n",
    "#all_games['pts/dollar']=all_games['FD pts']/(all_games['FD sal']/1000)\n"
   ]
  },
  {
   "cell_type": "code",
   "execution_count": null,
   "metadata": {},
   "outputs": [],
   "source": [
    "import itertools\n",
    "pointGuards=[item for item in itertools.combinations(pgs['Name'],2)]\n",
    "print(len(pointGuards))\n",
    "shootingGuards=[item for item in itertools.combinations(sgs['Name'],2)]\n",
    "print(len(shootingGuards))\n",
    "smallForwards=[item for item in itertools.combinations(sfs['Name'],2)]\n",
    "powerForwards=[item for item in itertools.combinations(pfs['Name'],2)]\n",
    "centers=[item for item in itertools.combinations(cs['Name'],1)]"
   ]
  },
  {
   "cell_type": "code",
   "execution_count": null,
   "metadata": {},
   "outputs": [],
   "source": [
    "pd.set_option('display.max_rows', 1000)\n",
    "#print(pointGuards)\n",
    "#create new df \n",
    "df_pgs = pd.DataFrame(pointGuards,columns=['PG1','PG2'])\n",
    "df_sgs = pd.DataFrame(shootingGuards,columns=['SG1','SG2'])\n",
    "df_sfs = pd.DataFrame(smallForwards,columns=['SF1','SF2'])\n",
    "df_pfs = pd.DataFrame(powerForwards,columns=['PF1','PF2'])\n",
    "df_cs = pd.DataFrame(centers,columns=['C'])\n",
    "#x=0\n",
    "#while x <20:\n",
    "#    print(next(pointGuards))\n",
    "#    x=x+1"
   ]
  },
  {
   "cell_type": "code",
   "execution_count": null,
   "metadata": {},
   "outputs": [],
   "source": [
    "#list1 = ['fred', 'bill', 'joe']\n",
    "#nameListBoys=pd.DataFrame([item for item in itertools.combinations(list1,2)],columns=['name1','name2'])\n",
    "#print(nameListBoys)\n",
    "#list2 = ['sally', 'sara', 'angelina']\n",
    "#nameListGirls=pd.DataFrame([item for item in itertools.combinations(list2,2)],columns=['name3','name4'])\n",
    "#print(nameListGirls)\n",
    "\n",
    "df_pgs['key']=0    \n",
    "df_sgs['key']=0                            \n",
    "pgs_sgs = df_pgs.merge(df_sgs, how='left', on = 'key')\n",
    "pgs_sgs.drop('key',1, inplace=True)\n",
    "\n",
    "#check for duplicates\n",
    "print(pgs_sgs.groupby(['PG1','PG2','SG1','SG2','SF1','SF2']).ngroups)\n",
    "print(len(pgs_sgs.index))\n",
    "print(pgs_sgs.groupby(['PG1','PG2','SG1','SG2','SF1','SF2']).ngroups-len(pgs_sgs.index))"
   ]
  },
  {
   "cell_type": "code",
   "execution_count": null,
   "metadata": {},
   "outputs": [],
   "source": [
    "pgs_sgs['key']=0\n",
    "df_sfs['key']=0\n",
    "pgs_sgs_sfs = df_sfs.merge(pgs_sgs, how='left', on = 'key')\n",
    "pgs_sgs_sfs.drop('key',1, inplace=True)\n",
    "\n",
    "#check for duplicates\n",
    "print(pgs_sgs_sfs.groupby(['PG1','PG2','SG1','SG2','SF1','SF2']).ngroups)\n",
    "print(len(pgs_sgs_sfs.index))\n",
    "print(pgs_sgs_sfs.groupby(['PG1','PG2','SG1','SG2','SF1','SF2']).ngroups-len(pgs_sgs_sfs.index))"
   ]
  },
  {
   "cell_type": "code",
   "execution_count": null,
   "metadata": {},
   "outputs": [],
   "source": [
    "pgs_sgs_sfs['key']=0\n",
    "df_pfs['key']=0\n",
    "pgs_sgs_sfs_pfs = df_pfs.merge(pgs_sgs_sfs, how='left', on = 'key')\n",
    "pgs_sgs_sfs_pfs.drop('key',1, inplace=True)\n",
    "\n",
    "#check for duplicates\n",
    "print(pgs_sgs_sfs_pfs.groupby(['PG1','PG2','SG1','SG2','SF1','SF2']).ngroups)\n",
    "print(len(pgs_sgs_sfs_pfs.index))\n",
    "print(pgs_sgs_sfs_pfs.groupby(['PG1','PG2','SG1','SG2','SF1','SF2']).ngroups-len(pgs_sgs_sfs_pfs.index))"
   ]
  },
  {
   "cell_type": "code",
   "execution_count": null,
   "metadata": {},
   "outputs": [],
   "source": [
    "pgs_sgs_sfs_pfs['key']=0\n",
    "df_cs['key']=0\n",
    "pgs_sgs_sfs_pfs_cs = df_cs.merge(pgs_sgs_sfs_pfs, how='left', on = 'key')\n",
    "pgs_sgs_sfs_pfs_cs.drop('key',1, inplace=True)\n",
    "\n",
    "#check for duplicates\n",
    "print(pgs_sgs_sfs_pfs_cs.groupby(['PG1','PG2','SG1','SG2','SF1','SF2']).ngroups)\n",
    "print(len(pgs_sgs_sfs_pfs_cs.index))\n",
    "print(pgs_sgs_sfs_pfs_cs.groupby(['PG1','PG2','SG1','SG2','SF1','SF2']).ngroups-len(pgs_sgs_sfs_pfs_cs.index))"
   ]
  },
  {
   "cell_type": "code",
   "execution_count": 100,
   "metadata": {},
   "outputs": [
    {
     "name": "stdout",
     "output_type": "stream",
     "text": [
      "  name1 name2\n",
      "0  Fred  Bill\n",
      "1   Joe  Fred\n",
      "2   Joe  Bill\n",
      "3   Joe  Bill\n"
     ]
    }
   ],
   "source": [
    "names=[{'Fred','Bill'},{'Fred','Joe'},{'Bill','Joe'},{'Bill','Joe'}]\n",
    "names=pd.DataFrame(names, columns=('name1','name2'))\n",
    "print(names)"
   ]
  },
  {
   "cell_type": "code",
   "execution_count": 113,
   "metadata": {},
   "outputs": [
    {
     "data": {
      "text/plain": [
       "-1"
      ]
     },
     "execution_count": 113,
     "metadata": {},
     "output_type": "execute_result"
    }
   ],
   "source": [
    "names.groupby(['name1','name2']).ngroups-len(names.index)"
   ]
  },
  {
   "cell_type": "code",
   "execution_count": null,
   "metadata": {},
   "outputs": [],
   "source": []
  }
 ],
 "metadata": {
  "kernelspec": {
   "display_name": "Python 3",
   "language": "python",
   "name": "python3"
  },
  "language_info": {
   "codemirror_mode": {
    "name": "ipython",
    "version": 3
   },
   "file_extension": ".py",
   "mimetype": "text/x-python",
   "name": "python",
   "nbconvert_exporter": "python",
   "pygments_lexer": "ipython3",
   "version": "3.7.0"
  }
 },
 "nbformat": 4,
 "nbformat_minor": 2
}
