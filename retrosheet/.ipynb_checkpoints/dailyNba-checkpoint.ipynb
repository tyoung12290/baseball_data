{
 "cells": [
  {
   "cell_type": "markdown",
   "metadata": {},
   "source": [
    "            \n",
    "| Stat | Score |\n",
    "| ---  | ---   |\n",
    "| Win  | 6     |\n",
    "| QS  |  4     |\n",
    "| ER  | -3     |\n",
    "| SO  | 3     |\n",
    "| Out  | 1     |\n",
    "| 1B  | 3     |\n",
    "| 2B  | 6     |\n",
    "| 3B  | 9     |\n",
    "| HR  | 12     |\n",
    "| RBI  | 3.5     |\n",
    "| R  | 3.2     |\n",
    "| BB  | 3     |\n",
    "| SB  | 6     |\n",
    "| HBP  | 3     |\n"
   ]
  },
  {
   "cell_type": "markdown",
   "metadata": {},
   "source": [
    "# Positions\n",
    "P - 1 <br>\n",
    "C/1B - 1 <br>\n",
    "2B - 1 <br>\n",
    "3B - 1 <br>\n",
    "SS - 1 <br>\n",
    "OF - 3 <br>\n",
    "UTIL - 1 <br>"
   ]
  },
  {
   "cell_type": "code",
   "execution_count": 1,
   "metadata": {},
   "outputs": [],
   "source": [
    "import pandas as pd\n",
    "from bs4 import BeautifulSoup\n",
    "import requests\n",
    "import io"
   ]
  },
  {
   "cell_type": "code",
   "execution_count": 2,
   "metadata": {},
   "outputs": [],
   "source": [
    "BASE_URL=\"http://rotoguru1.com/cgi-bin/byday.pl?game=fd&scsv=1&month=07&day=24&year=2015&nowrap=1\"\n",
    "page = requests.get(BASE_URL)"
   ]
  },
  {
   "cell_type": "code",
   "execution_count": 3,
   "metadata": {},
   "outputs": [],
   "source": [
    "soup=BeautifulSoup(page.content, 'html.parser')\n",
    "headers = [\"Date\",\"GID\",\"MLB_ID\",\"Name\",\"Starter\",\"Bat order\",\"FD posn\",\"FD pts\",\"FD sal\",\"Team\",\"Oppt\",\"dblhdr\",\"Tm Runs\",\"Opp Runs\"]\n",
    "all_games=pd.read_csv(io.StringIO(soup.text),sep=\";\",names=headers)"
   ]
  },
  {
   "cell_type": "code",
   "execution_count": 4,
   "metadata": {},
   "outputs": [
    {
     "name": "stdout",
     "output_type": "stream",
     "text": [
      "<class 'pandas.core.frame.DataFrame'>\n",
      "RangeIndex: 414 entries, 0 to 413\n",
      "Data columns (total 14 columns):\n",
      "Date         414 non-null int64\n",
      "GID          414 non-null object\n",
      "MLB_ID       414 non-null int64\n",
      "Name         414 non-null object\n",
      "Starter      284 non-null float64\n",
      "Bat order    414 non-null int64\n",
      "FD posn      402 non-null float64\n",
      "FD pts       414 non-null float64\n",
      "FD sal       402 non-null float64\n",
      "Team         414 non-null object\n",
      "Oppt         414 non-null object\n",
      "dblhdr       0 non-null float64\n",
      "Tm Runs      414 non-null int64\n",
      "Opp Runs     414 non-null object\n",
      "dtypes: float64(5), int64(4), object(5)\n",
      "memory usage: 45.4+ KB\n"
     ]
    }
   ],
   "source": [
    "all_games.info()"
   ]
  },
  {
   "cell_type": "code",
   "execution_count": 5,
   "metadata": {},
   "outputs": [
    {
     "name": "stdout",
     "output_type": "stream",
     "text": [
      "Date          212\n",
      "GID           212\n",
      "MLB_ID        212\n",
      "Name          212\n",
      "Starter       161\n",
      "Bat order     212\n",
      "FD posn       206\n",
      "FD pts        212\n",
      "FD sal        206\n",
      "Team          212\n",
      "Oppt          212\n",
      "dblhdr          0\n",
      "Tm Runs       212\n",
      "Opp Runs      212\n",
      "pts/dollar    206\n",
      "dtype: int64\n"
     ]
    }
   ],
   "source": [
    "#all_games.sort_values(by=\"FD pts\", ascending=False)\n",
    "all_games['pts/dollar']=all_games['FD pts']/(all_games['FD sal']/1000)\n",
    "\n",
    "print(all_games[all_games['FD pts'] > 1].count())"
   ]
  },
  {
   "cell_type": "code",
   "execution_count": 10,
   "metadata": {},
   "outputs": [
    {
     "name": "stdout",
     "output_type": "stream",
     "text": [
      "[('fred',), ('bill',), ('smith',)]\n"
     ]
    }
   ],
   "source": [
    "import itertools\n",
    "names = [\"fred\",\"bill\",\"smith\"]\n",
    "print(list(itertools.combinations(names,1)))"
   ]
  },
  {
   "cell_type": "code",
   "execution_count": null,
   "metadata": {},
   "outputs": [],
   "source": []
  }
 ],
 "metadata": {
  "kernelspec": {
   "display_name": "Python 3",
   "language": "python",
   "name": "python3"
  },
  "language_info": {
   "codemirror_mode": {
    "name": "ipython",
    "version": 3
   },
   "file_extension": ".py",
   "mimetype": "text/x-python",
   "name": "python",
   "nbconvert_exporter": "python",
   "pygments_lexer": "ipython3",
   "version": "3.7.0"
  }
 },
 "nbformat": 4,
 "nbformat_minor": 2
}
