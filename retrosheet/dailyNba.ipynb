{
 "cells": [
  {
   "cell_type": "markdown",
   "metadata": {},
   "source": [
    "            \n",
    "| Stat | Score |\n",
    "| ---  | ---   |\n",
    "| Win  | 6     |\n",
    "| QS  |  4     |\n",
    "| ER  | -3     |\n",
    "| SO  | 3     |\n",
    "| Out  | 1     |\n",
    "| 1B  | 3     |\n",
    "| 2B  | 6     |\n",
    "| 3B  | 9     |\n",
    "| HR  | 12     |\n",
    "| RBI  | 3.5     |\n",
    "| R  | 3.2     |\n",
    "| BB  | 3     |\n",
    "| SB  | 6     |\n",
    "| HBP  | 3     |\n"
   ]
  },
  {
   "cell_type": "markdown",
   "metadata": {},
   "source": [
    "# Positions\n",
    "P - 1 <br>\n",
    "C/1B - 1 <br>\n",
    "2B - 1 <br>\n",
    "3B - 1 <br>\n",
    "SS - 1 <br>\n",
    "OF - 3 <br>\n",
    "UTIL - 1 <br>"
   ]
  },
  {
   "cell_type": "code",
   "execution_count": 38,
   "metadata": {},
   "outputs": [],
   "source": [
    "import pandas as pd\n",
    "from bs4 import BeautifulSoup\n",
    "import requests\n",
    "import io"
   ]
  },
  {
   "cell_type": "code",
   "execution_count": 39,
   "metadata": {},
   "outputs": [],
   "source": [
    "BASE_URL=\"http://rotoguru1.com/cgi-bin/hyday.pl?game=fd&scsv=1\"\n",
    "page = requests.get(BASE_URL)"
   ]
  },
  {
   "cell_type": "code",
   "execution_count": 40,
   "metadata": {},
   "outputs": [],
   "source": [
    "soup=BeautifulSoup(page.content, 'html.parser')\n",
    "#headers = [\"Date\",\"GID\",\"MLB_ID\",\"Name\",\"Starter\",\"Bat order\",\"FD posn\",\"FD pts\",\"FD sal\",\"Team\",\"Oppt\",\"dblhdr\",\"Tm Runs\",\"Opp Runs\"]\n",
    "all_games=pd.read_csv(io.StringIO(soup.find(\"pre\").text),sep=\";\")"
   ]
  },
  {
   "cell_type": "code",
   "execution_count": 50,
   "metadata": {},
   "outputs": [
    {
     "data": {
      "text/plain": [
       "SF    33\n",
       "SG    31\n",
       "PF    29\n",
       "PG    28\n",
       "C     22\n",
       "Name: Pos, dtype: int64"
      ]
     },
     "execution_count": 50,
     "metadata": {},
     "output_type": "execute_result"
    }
   ],
   "source": [
    "pd.value_counts(all_games['Pos'])"
   ]
  },
  {
   "cell_type": "markdown",
   "metadata": {},
   "source": [
    "# Combination calculation\n",
    "[example baseball lineup calc](\"https://math.stackexchange.com/questions/1262243/baseball-combinations-problem\")\n",
    "\n"
   ]
  },
  {
   "cell_type": "code",
   "execution_count": 42,
   "metadata": {},
   "outputs": [
    {
     "name": "stdout",
     "output_type": "stream",
     "text": [
      "<class 'pandas.core.frame.DataFrame'>\n",
      "Int64Index: 143 entries, 0 to 270\n",
      "Data columns (total 14 columns):\n",
      "Date          143 non-null object\n",
      "GID           143 non-null float64\n",
      "Pos           143 non-null object\n",
      "Name          143 non-null object\n",
      "Starter       82 non-null float64\n",
      "FD Pts        143 non-null float64\n",
      "FD Salary     143 non-null object\n",
      "Team          143 non-null object\n",
      "H/A           143 non-null object\n",
      "Oppt          143 non-null object\n",
      "Team Score    143 non-null float64\n",
      "Oppt Score    143 non-null float64\n",
      "Minutes       143 non-null object\n",
      "Stat line     143 non-null object\n",
      "dtypes: float64(5), object(9)\n",
      "memory usage: 16.8+ KB\n",
      "None\n"
     ]
    }
   ],
   "source": [
    "#all_games.sort_values(by=\"FD pts\", ascending=False)\n",
    "all_games=all_games[all_games['FD Pts'] >=10]\n",
    "#all_games['pts/dollar']=all_games['FD pts']/(all_games['FD sal']/1000)\n",
    "\n",
    "print(all_games.info())"
   ]
  },
  {
   "cell_type": "code",
   "execution_count": 43,
   "metadata": {},
   "outputs": [],
   "source": [
    "import itertools\n",
    "test=itertools.combinations(all_games['Name'],9)"
   ]
  },
  {
   "cell_type": "code",
   "execution_count": 45,
   "metadata": {},
   "outputs": [
    {
     "name": "stdout",
     "output_type": "stream",
     "text": [
      "('DeRozan, DeMar', 'Curry, Stephen', 'Lillard, Damian', 'Beal, Bradley', 'Lowry, Kyle', 'Bledsoe, Eric', 'Conley, Mike', 'LaVine, Zach', 'Irving, Kyrie')\n",
      "('DeRozan, DeMar', 'Curry, Stephen', 'Lillard, Damian', 'Beal, Bradley', 'Lowry, Kyle', 'Bledsoe, Eric', 'Conley, Mike', 'LaVine, Zach', 'Middleton, Khris')\n",
      "('DeRozan, DeMar', 'Curry, Stephen', 'Lillard, Damian', 'Beal, Bradley', 'Lowry, Kyle', 'Bledsoe, Eric', 'Conley, Mike', 'LaVine, Zach', 'Walker, Kemba')\n",
      "('DeRozan, DeMar', 'Curry, Stephen', 'Lillard, Damian', 'Beal, Bradley', 'Lowry, Kyle', 'Bledsoe, Eric', 'Conley, Mike', 'LaVine, Zach', 'Booker, Devin')\n",
      "('DeRozan, DeMar', 'Curry, Stephen', 'Lillard, Damian', 'Beal, Bradley', 'Lowry, Kyle', 'Bledsoe, Eric', 'Conley, Mike', 'LaVine, Zach', 'Hart, Josh')\n",
      "('DeRozan, DeMar', 'Curry, Stephen', 'Lillard, Damian', 'Beal, Bradley', 'Lowry, Kyle', 'Bledsoe, Eric', 'Conley, Mike', 'LaVine, Zach', 'Wall, John')\n",
      "('DeRozan, DeMar', 'Curry, Stephen', 'Lillard, Damian', 'Beal, Bradley', 'Lowry, Kyle', 'Bledsoe, Eric', 'Conley, Mike', 'LaVine, Zach', 'Fournier, Evan')\n",
      "('DeRozan, DeMar', 'Curry, Stephen', 'Lillard, Damian', 'Beal, Bradley', 'Lowry, Kyle', 'Bledsoe, Eric', 'Conley, Mike', 'LaVine, Zach', 'Green, Danny')\n",
      "('DeRozan, DeMar', 'Curry, Stephen', 'Lillard, Damian', 'Beal, Bradley', 'Lowry, Kyle', 'Bledsoe, Eric', 'Conley, Mike', 'LaVine, Zach', 'Matthews, Wes')\n",
      "('DeRozan, DeMar', 'Curry, Stephen', 'Lillard, Damian', 'Beal, Bradley', 'Lowry, Kyle', 'Bledsoe, Eric', 'Conley, Mike', 'LaVine, Zach', 'Oladipo, Victor')\n"
     ]
    }
   ],
   "source": [
    "x=0\n",
    "while x <10:\n",
    "    print(next(test))\n",
    "    x=x+1"
   ]
  },
  {
   "cell_type": "code",
   "execution_count": null,
   "metadata": {},
   "outputs": [],
   "source": []
  }
 ],
 "metadata": {
  "kernelspec": {
   "display_name": "Python 3",
   "language": "python",
   "name": "python3"
  },
  "language_info": {
   "codemirror_mode": {
    "name": "ipython",
    "version": 3
   },
   "file_extension": ".py",
   "mimetype": "text/x-python",
   "name": "python",
   "nbconvert_exporter": "python",
   "pygments_lexer": "ipython3",
   "version": "3.7.0"
  }
 },
 "nbformat": 4,
 "nbformat_minor": 2
}
