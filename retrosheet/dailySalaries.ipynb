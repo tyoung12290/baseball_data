{
 "cells": [
  {
   "cell_type": "markdown",
   "metadata": {},
   "source": [
    "            \n",
    "| Stat | Score |\n",
    "| ---  | ---   |\n",
    "| Win  | 6     |\n",
    "| QS  |  4     |\n",
    "| ER  | -3     |\n",
    "| SO  | 3     |\n",
    "| Out  | 1     |\n",
    "| 1B  | 3     |\n",
    "| 2B  | 6     |\n",
    "| 3B  | 9     |\n",
    "| HR  | 12     |\n",
    "| RBI  | 3.5     |\n",
    "| R  | 3.2     |\n",
    "| BB  | 3     |\n",
    "| SB  | 6     |\n",
    "| HBP  | 3     |\n"
   ]
  },
  {
   "cell_type": "markdown",
   "metadata": {},
   "source": [
    "# Positions\n",
    "P - 1 <br>\n",
    "C/1B - 1 <br>\n",
    "2B - 1 <br>\n",
    "3B - 1 <br>\n",
    "SS - 1 <br>\n",
    "OF - 3 <br>\n",
    "UTIL - 1 <br>"
   ]
  },
  {
   "cell_type": "code",
   "execution_count": 86,
   "metadata": {},
   "outputs": [],
   "source": [
    "import pandas as pd\n",
    "from bs4 import BeautifulSoup as soup\n",
    "import requests\n",
    "import io"
   ]
  },
  {
   "cell_type": "code",
   "execution_count": 87,
   "metadata": {},
   "outputs": [],
   "source": [
    "BASE_URL=\"http://rotoguru1.com/cgi-bin/byday.pl?game=fd&scsv=1&month=07&day=24&year=2015&nowrap=1\"\n",
    "page = requests.get(BASE_URL)"
   ]
  },
  {
   "cell_type": "code",
   "execution_count": 88,
   "metadata": {},
   "outputs": [],
   "source": [
    "soup=BeautifulSoup(page.content, 'html.parser')\n",
    "headers = [\"Date\",\"GID\",\"MLB_ID\",\"Name\",\"Starter\",\"Bat order\",\"FD posn\",\"FD pts\",\"FD sal\",\"Team\",\"Oppt\",\"dblhdr\",\"Tm Runs\",\"Opp Runs\"]\n",
    "all_games=pd.read_csv(io.StringIO(soup.text),sep=\";\",names=headers)"
   ]
  },
  {
   "cell_type": "code",
   "execution_count": 89,
   "metadata": {},
   "outputs": [
    {
     "name": "stdout",
     "output_type": "stream",
     "text": [
      "<class 'pandas.core.frame.DataFrame'>\n",
      "RangeIndex: 414 entries, 0 to 413\n",
      "Data columns (total 14 columns):\n",
      "Date         414 non-null int64\n",
      "GID          414 non-null object\n",
      "MLB_ID       414 non-null int64\n",
      "Name         414 non-null object\n",
      "Starter      284 non-null float64\n",
      "Bat order    414 non-null int64\n",
      "FD posn      402 non-null float64\n",
      "FD pts       414 non-null float64\n",
      "FD sal       402 non-null float64\n",
      "Team         414 non-null object\n",
      "Oppt         414 non-null object\n",
      "dblhdr       0 non-null float64\n",
      "Tm Runs      414 non-null int64\n",
      "Opp Runs     414 non-null object\n",
      "dtypes: float64(5), int64(4), object(5)\n",
      "memory usage: 45.4+ KB\n"
     ]
    }
   ],
   "source": [
    "all_games.info()"
   ]
  },
  {
   "cell_type": "code",
   "execution_count": 100,
   "metadata": {},
   "outputs": [],
   "source": [
    "#all_games.sort_values(by=\"FD pts\", ascending=False)\n",
    "all_games['pts/dollar']=all_games['FD pts']/(all_games['FD sal']/1000)"
   ]
  },
  {
   "cell_type": "code",
   "execution_count": 101,
   "metadata": {},
   "outputs": [
    {
     "name": "stdout",
     "output_type": "stream",
     "text": [
      "         Date   GID  MLB_ID                 Name  Starter  Bat order  FD posn  \\\n",
      "0    20150724  111t  500779       Quintana, Jose      1.0          0      1.0   \n",
      "1    20150724  1103  407890         Lewis, Colby      1.0          0      1.0   \n",
      "2    20150724  1610  433587     Hernandez, Felix      1.0          0      1.0   \n",
      "3    20150724  118z  519076        Nelson, Jimmy      1.0          9      1.0   \n",
      "4    20150724  111p  571578      Corbin, Patrick      1.0          9      1.0   \n",
      "5    20150724  100y  488768      Cashner, Andrew      1.0          9      1.0   \n",
      "6    20150724  104z  502042        Archer, Chris      1.0          0      1.0   \n",
      "7    20150724  1133  431148        Kazmir, Scott      1.0          0      1.0   \n",
      "8    20150724  1959  461833         Hughes, Phil      1.0          0      1.0   \n",
      "9    20150724  128d  608641          Cooney, Tim      1.0          9      1.0   \n",
      "10   20150724  123f  621962          Thomas, Ian      1.0          9      1.0   \n",
      "11   20150724  1457  519144       Porcello, Rick      1.0          0      1.0   \n",
      "12   20150724  1506  452657          Lester, Jon      1.0          8      1.0   \n",
      "13   20150724  1524  434378    Verlander, Justin      1.0          0      1.0   \n",
      "14   20150724  1994  501957       Tillman, Chris      1.0          0      1.0   \n",
      "15   20150724  1325  408241          Peavy, Jake      1.0          9      1.0   \n",
      "16   20150724  123x  543101  DeSclafani, Anthony      1.0          8      1.0   \n",
      "17   20150724  1310  453286        Scherzer, Max      1.0          9      1.0   \n",
      "18   20150724  108v  446372        Kluber, Corey      1.0          0      1.0   \n",
      "19   20150724  1330  475416    Masterson, Justin      NaN          0      1.0   \n",
      "20   20150724  116q  517008         Colome, Alex      NaN          0      1.0   \n",
      "21   20150724  1803  425532     Williams, Jerome      1.0          9      1.0   \n",
      "22   20150724  1171  429717           Haren, Dan      1.0          9      1.0   \n",
      "23   20150724  109k  502046          Locke, Jeff      1.0          9      1.0   \n",
      "24   20150724  1653  425386      Guthrie, Jeremy      1.0          0      1.0   \n",
      "25   20150724  126d  607374       Tropeano, Nick      1.0          0      1.0   \n",
      "26   20150724  103j  474699        Worley, Vance      NaN          9      1.0   \n",
      "27   20150724  124j  572750        Butler, Eddie      1.0          9      1.0   \n",
      "28   20150724  124k  571704           Giles, Ken      NaN          8      1.0   \n",
      "29   20150724  1712  446099         Axford, John      NaN          9      NaN   \n",
      "..        ...   ...     ...                  ...      ...        ...      ...   \n",
      "384  20150724  2238  455104      Iannetta, Chris      1.0          7      2.0   \n",
      "385  20150724  5196  502143      Valencia, Danny      1.0          7      5.0   \n",
      "386  20150724  7023  136860      Beltran, Carlos      1.0          6      7.0   \n",
      "387  20150724  7589  457708        Upton, Justin      1.0          4      7.0   \n",
      "388  20150724  3145  434778     Morales, Kendrys      1.0          5      3.0   \n",
      "389  20150724  5191  453400       Johnson, Chris      1.0          4      5.0   \n",
      "390  20150724  5208  517370       Paredes, Jimmy      1.0          1      4.0   \n",
      "391  20150724  6182  430947         Aybar, Erick      1.0          5      6.0   \n",
      "392  20150724  2362  519390        Vogt, Stephen      1.0          2      2.0   \n",
      "393  20150724  2514  571875           Lamb, Jake      1.0          6      5.0   \n",
      "394  20150724  7645  457706      Jackson, Austin      1.0          1      7.0   \n",
      "395  20150724  7735  543238        Gose, Anthony      1.0          9      7.0   \n",
      "396  20150724  2477  519306    Souza Jr., Steven      1.0          1      7.0   \n",
      "397  20150724  2484  543068           Cron, C.J.      1.0          6      3.0   \n",
      "398  20150724  2485  543376        Joseph, Caleb      1.0          8      2.0   \n",
      "399  20150724  7464  430404         Gomes, Jonny      1.0          6      7.0   \n",
      "400  20150724  2441  542454       Santana, Danny      1.0          9      6.0   \n",
      "401  20150724  2559  608365     Russell, Addison      1.0          9      4.0   \n",
      "402  20150724  2203  425900      Navarro, Dioner      1.0          6      2.0   \n",
      "403  20150724  7760  541645      Garcia, Avisail      1.0          6      7.0   \n",
      "404  20150724  5178  467055      Sandoval, Pablo      1.0          4      5.0   \n",
      "405  20150724  6258  465753      Florimon, Pedro      1.0          8      6.0   \n",
      "406  20150724  4163  430605         Raburn, Ryan      1.0          4      7.0   \n",
      "407  20150724  6283  588751  Hechavarria, Adeiny      1.0          8      6.0   \n",
      "408  20150724  7788  571868         Krauss, Marc      1.0          7      3.0   \n",
      "409  20150724  6244  465674       Ciriaco, Pedro      1.0          2      6.0   \n",
      "410  20150724  2312  452095       Flowers, Tyler      1.0          8      2.0   \n",
      "411  20150724  4243  506560      Amarista, Alexi      1.0          1      6.0   \n",
      "412  20150724  2175  400121     Martinez, Victor      1.0          3      2.0   \n",
      "413  20150724  2525  596748       Franco, Maikel      1.0          3      5.0   \n",
      "\n",
      "     FD pts   FD sal Team   Oppt  dblhdr  Tm Runs Opp Runs away  pts/dollar  \n",
      "0      21.0   8200.0  CHW  @ cle     NaN        6        0  cle    2.560976  \n",
      "1      18.7   6600.0  TEX  @ laa     NaN        4        2  laa    2.833333  \n",
      "2      17.0  11300.0  SEA  v tor     NaN        5        2  tor    1.504425  \n",
      "3      16.0   7100.0  MIL  @ ari     NaN        2        1  ari    2.253521  \n",
      "4      16.0   6600.0  ARI  v mil     NaN        1        2  mil    2.424242  \n",
      "5      15.0   7300.0  SDG  v mia     NaN        3        1  mia    2.054795  \n",
      "6      14.0  10600.0  TAM  v bal     NaN        3        1  bal    1.320755  \n",
      "7      14.0   9200.0  HOU  @ kan     NaN        4        0  kan    1.521739  \n",
      "8      14.0   7600.0  MIN  v nyy     NaN       10        1  nyy    1.842105  \n",
      "9      14.0   6200.0  STL  v atl     NaN        4        2  atl    2.258065  \n",
      "10     13.0   4100.0  LAD  @ nym     NaN        7        2  nym    3.170732  \n",
      "11     12.0   7400.0  BOS  v det     NaN        2   1(F11)  det    1.621622  \n",
      "12     11.0   9600.0  CHC  v phi     NaN        3   5(F10)  phi    1.145833  \n",
      "13     10.0   7100.0  DET  @ bos     NaN        1   2(F11)  bos    1.408451  \n",
      "14     10.0   6300.0  BAL  @ tam     NaN        1        3  tam    1.587302  \n",
      "15      9.0   7000.0  SFO  v oak     NaN        9        3  oak    1.285714  \n",
      "16      9.0   6300.0  CIN  @ col     NaN        5        6  col    1.428571  \n",
      "17      8.0  12000.0  WAS  @ pit     NaN        5        7  pit    0.666667  \n",
      "18      8.0  11000.0  CLE  v chw     NaN        0        6  chw    0.727273  \n",
      "19      7.0   6500.0  BOS  v det     NaN        2   1(F11)  det    1.076923  \n",
      "20      7.0   6100.0  TAM  v bal     NaN        3        1  bal    1.147541  \n",
      "21      7.0   4700.0  PHI  @ chc     NaN        5   3(F10)  chc    1.489362  \n",
      "22      6.0   7100.0  MIA  @ sdg     NaN        1        3  sdg    0.845070  \n",
      "23      6.0   6600.0  PIT  v was     NaN        7        5  was    0.909091  \n",
      "24      6.0   5800.0  KAN  v hou     NaN        0        4  hou    1.034483  \n",
      "25      6.0   5600.0  LAA  v tex     NaN        2        4  tex    1.071429  \n",
      "26      6.0   5100.0  PIT  v was     NaN        7        5  was    1.176471  \n",
      "27      6.0   5100.0  COL  v cin     NaN        6        5  cin    1.176471  \n",
      "28      6.0   4000.0  PHI  @ chc     NaN        5   3(F10)  chc    1.500000  \n",
      "29      6.0      NaN  COL  v cin     NaN        6        5  cin         NaN  \n",
      "..      ...      ...  ...    ...     ...      ...      ...  ...         ...  \n",
      "384    -1.0   3000.0  LAA  v tex     NaN        2        4  tex   -0.333333  \n",
      "385    -1.0   3000.0  TOR  @ sea     NaN        2        5  sea   -0.333333  \n",
      "386    -1.0   2800.0  NYY  @ min     NaN        1       10  min   -0.357143  \n",
      "387    -1.0   2800.0  SDG  v mia     NaN        3        1  mia   -0.357143  \n",
      "388    -1.0   2800.0  KAN  v hou     NaN        0        4  hou   -0.357143  \n",
      "389    -1.0   2800.0  ATL  @ stl     NaN        2        4  stl   -0.357143  \n",
      "390    -1.0   2700.0  BAL  @ tam     NaN        1        3  tam   -0.370370  \n",
      "391    -1.0   2700.0  LAA  v tex     NaN        2        4  tex   -0.370370  \n",
      "392    -1.0   2700.0  OAK  @ sfo     NaN        3        9  sfo   -0.370370  \n",
      "393    -1.0   2600.0  ARI  v mil     NaN        1        2  mil   -0.384615  \n",
      "394    -1.0   2600.0  SEA  v tor     NaN        5        2  tor   -0.384615  \n",
      "395    -1.0   2500.0  DET  @ bos     NaN        1   2(F11)  bos   -0.400000  \n",
      "396    -1.0   2500.0  TAM  v bal     NaN        3        1  bal   -0.400000  \n",
      "397    -1.0   2500.0  LAA  v tex     NaN        2        4  tex   -0.400000  \n",
      "398    -1.0   2400.0  BAL  @ tam     NaN        1        3  tam   -0.416667  \n",
      "399    -1.0   2400.0  ATL  @ stl     NaN        2        4  stl   -0.416667  \n",
      "400    -1.0   2300.0  MIN  v nyy     NaN       10        1  nyy   -0.434783  \n",
      "401    -1.0   2300.0  CHC  v phi     NaN        3   5(F10)  phi   -0.434783  \n",
      "402    -1.0   2200.0  TOR  @ sea     NaN        2        5  sea   -0.454545  \n",
      "403    -1.0   2200.0  CHW  @ cle     NaN        6        0  cle   -0.454545  \n",
      "404    -1.0   2200.0  BOS  v det     NaN        2   1(F11)  det   -0.454545  \n",
      "405    -1.0   2200.0  PIT  v was     NaN        7        5  was   -0.454545  \n",
      "406    -1.0   2200.0  CLE  v chw     NaN        0        6  chw   -0.454545  \n",
      "407    -1.0   2200.0  MIA  @ sdg     NaN        1        3  sdg   -0.454545  \n",
      "408    -1.0   2200.0  DET  @ bos     NaN        1   2(F11)  bos   -0.454545  \n",
      "409    -1.0   2200.0  ATL  @ stl     NaN        2        4  stl   -0.454545  \n",
      "410    -1.0   2200.0  CHW  @ cle     NaN        6        0  cle   -0.454545  \n",
      "411    -1.0   2200.0  SDG  v mia     NaN        3        1  mia   -0.454545  \n",
      "412    -1.2   3300.0  DET  @ bos     NaN        1   2(F11)  bos   -0.363636  \n",
      "413    -1.2   3000.0  PHI  @ chc     NaN        5   3(F10)  chc   -0.400000  \n",
      "\n",
      "[414 rows x 16 columns]\n"
     ]
    }
   ],
   "source": [
    "print(all_games)"
   ]
  },
  {
   "cell_type": "code",
   "execution_count": null,
   "metadata": {},
   "outputs": [],
   "source": []
  }
 ],
 "metadata": {
  "kernelspec": {
   "display_name": "Python 3",
   "language": "python",
   "name": "python3"
  },
  "language_info": {
   "codemirror_mode": {
    "name": "ipython",
    "version": 3
   },
   "file_extension": ".py",
   "mimetype": "text/x-python",
   "name": "python",
   "nbconvert_exporter": "python",
   "pygments_lexer": "ipython3",
   "version": "3.7.0"
  }
 },
 "nbformat": 4,
 "nbformat_minor": 2
}
